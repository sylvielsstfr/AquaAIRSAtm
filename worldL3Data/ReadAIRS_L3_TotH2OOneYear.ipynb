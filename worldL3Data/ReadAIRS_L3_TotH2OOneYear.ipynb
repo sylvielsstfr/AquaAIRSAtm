{
 "cells": [
  {
   "cell_type": "markdown",
   "metadata": {},
   "source": [
    "# Read of L3 AIRS Data on H2O during One Year from Pandas\n",
    "------------------------------------------------------------------\n",
    "\n",
    "- author: Sylvie Dagoret-Campagne\n",
    "- creation November 22 Novembre 2016\n",
    "- update 24 november 2016 : generate latex table\n",
    "\n",
    "\n",
    "### purpose:\n",
    "\n",
    "Analyse AIRS instrument data from AQUA satellite for LSST air transparency simulation\n",
    "\n",
    "- http://acdisc.gsfc.nasa.gov/data/Aqua_AIRS_Level3/AIRX3STM.006/\n",
    "\n",
    "These data are provided by the Goddard Earth Science:\n",
    "\n",
    "- http://disc.gsfc.nasa.gov/acdisc\n"
   ]
  },
  {
   "cell_type": "markdown",
   "metadata": {},
   "source": [
    "## 1) python libraries\n",
    "---------------------------"
   ]
  },
  {
   "cell_type": "code",
   "execution_count": 1,
   "metadata": {
    "collapsed": false
   },
   "outputs": [
    {
     "name": "stderr",
     "output_type": "stream",
     "text": [
      "/Users/dagoret-campagnesylvie/.local/lib/python2.7/site-packages/matplotlib/__init__.py:878: UserWarning: axes.color_cycle is deprecated and replaced with axes.prop_cycle; please use the latter.\n",
      "  warnings.warn(self.msg_depr % (key, alt_key))\n"
     ]
    }
   ],
   "source": [
    "# Set up matplotlib and use a nicer set of plot parameters\n",
    "%config InlineBackend.rc = {}\n",
    "import matplotlib\n",
    "import matplotlib as mpl\n",
    "matplotlib.rc_file(\"templates/matplotlibrc\")\n",
    "import matplotlib.pyplot as plt\n",
    "%matplotlib inline"
   ]
  },
  {
   "cell_type": "code",
   "execution_count": 2,
   "metadata": {
    "collapsed": true
   },
   "outputs": [],
   "source": [
    "import datetime"
   ]
  },
  {
   "cell_type": "code",
   "execution_count": 3,
   "metadata": {
    "collapsed": true
   },
   "outputs": [],
   "source": [
    "from matplotlib.dates import MonthLocator, WeekdayLocator,DateFormatter\n",
    "from matplotlib.dates import MONDAY"
   ]
  },
  {
   "cell_type": "code",
   "execution_count": 4,
   "metadata": {
    "collapsed": true
   },
   "outputs": [],
   "source": [
    "mondays = WeekdayLocator(MONDAY)\n",
    "months = MonthLocator(range(1, 13), bymonthday=1, interval=1)\n",
    "monthsFmt = DateFormatter(\"%b '%y\")"
   ]
  },
  {
   "cell_type": "code",
   "execution_count": 5,
   "metadata": {
    "collapsed": false
   },
   "outputs": [],
   "source": [
    "import os\n",
    "import re\n",
    "import numpy as np\n",
    "from mpl_toolkits.basemap import Basemap\n",
    "from matplotlib import colors\n",
    "from matplotlib.backends.backend_pdf import PdfPages\n",
    "import pandas as pd"
   ]
  },
  {
   "cell_type": "code",
   "execution_count": 6,
   "metadata": {
    "collapsed": true
   },
   "outputs": [],
   "source": [
    "from astropy import units as u\n",
    "from astropy.coordinates import SkyCoord"
   ]
  },
  {
   "cell_type": "code",
   "execution_count": 7,
   "metadata": {
    "collapsed": true
   },
   "outputs": [],
   "source": [
    "import pyhdf"
   ]
  },
  {
   "cell_type": "code",
   "execution_count": 8,
   "metadata": {
    "collapsed": false
   },
   "outputs": [],
   "source": [
    "from pyhdf.SD import SD,SDC"
   ]
  },
  {
   "cell_type": "code",
   "execution_count": 9,
   "metadata": {
    "collapsed": false
   },
   "outputs": [],
   "source": [
    "import libAIRSL3Data as airs  # My own library"
   ]
  },
  {
   "cell_type": "code",
   "execution_count": 10,
   "metadata": {
    "collapsed": false
   },
   "outputs": [],
   "source": [
    "############################################################################\n",
    "def ensure_dir(f):\n",
    "    d = os.path.dirname(f)\n",
    "    if not os.path.exists(f):\n",
    "        os.makedirs(f)\n",
    "#########################################################################"
   ]
  },
  {
   "cell_type": "markdown",
   "metadata": {},
   "source": [
    "## 1)  Configuration\n",
    "-------------------------"
   ]
  },
  {
   "cell_type": "code",
   "execution_count": 11,
   "metadata": {
    "collapsed": false
   },
   "outputs": [],
   "source": [
    "# where are the HDF files\n",
    "# 9 month\n",
    "#HDFEOS_ZOO_DIR=\"/Users/dagoret-campagnesylvie/MacOsX/LSST/MyWork/GitHub/NASA_AIRS_AQUA_DATA/AIRH3STM/2016/h4\" \n",
    "# 10 months\n",
    "HDFEOS_ZOO_DIR=\"/Users/dagoret-campagnesylvie/MacOsX/LSST/MyWork/GitHub/NASA_AIRS_AQUA_DATA/AIRS3STM/2016/h4\""
   ]
  },
  {
   "cell_type": "code",
   "execution_count": 12,
   "metadata": {
    "collapsed": false
   },
   "outputs": [],
   "source": [
    "path=HDFEOS_ZOO_DIR"
   ]
  },
  {
   "cell_type": "code",
   "execution_count": 13,
   "metadata": {
    "collapsed": true
   },
   "outputs": [],
   "source": [
    "# The selected data field\n",
    "DATAFIELD_NAME =  'TotH2OVap_D'   # Select Ozone column Depth"
   ]
  },
  {
   "cell_type": "code",
   "execution_count": 14,
   "metadata": {
    "collapsed": true
   },
   "outputs": [],
   "source": [
    "DATAFIELD_UNIT = DATAFIELD_NAME+'(kg/m$^2$)'  # Unit"
   ]
  },
  {
   "cell_type": "code",
   "execution_count": 15,
   "metadata": {
    "collapsed": true
   },
   "outputs": [],
   "source": [
    "DATA_TITLE = 'PWV column depth measured by AIRS in 2016'  # Title in figures"
   ]
  },
  {
   "cell_type": "code",
   "execution_count": 16,
   "metadata": {
    "collapsed": false
   },
   "outputs": [],
   "source": [
    "pandas_filename='AIRS_2016_'+DATAFIELD_NAME+'.csv'\n",
    "pandas_fieldname=['dates','average','ct','err','std','min','max']"
   ]
  },
  {
   "cell_type": "code",
   "execution_count": 17,
   "metadata": {
    "collapsed": true
   },
   "outputs": [],
   "source": [
    "figfilename1='AIRS2016_'+DATAFIELD_NAME+'.jpg'\n",
    "figfilename2='AIRS2016_'+DATAFIELD_NAME+'pres'+'.jpg'"
   ]
  },
  {
   "cell_type": "code",
   "execution_count": 18,
   "metadata": {
    "collapsed": true
   },
   "outputs": [],
   "source": [
    "# Select observatory\n",
    "loc=airs.observatory_location('ctio')"
   ]
  },
  {
   "cell_type": "markdown",
   "metadata": {},
   "source": [
    "### 1.2) Getting the list of the files\n",
    "------------------------------"
   ]
  },
  {
   "cell_type": "code",
   "execution_count": 19,
   "metadata": {
    "collapsed": false
   },
   "outputs": [],
   "source": [
    "dataset=pd.read_csv(pandas_filename)"
   ]
  },
  {
   "cell_type": "code",
   "execution_count": 20,
   "metadata": {
    "collapsed": true
   },
   "outputs": [],
   "source": [
    "dates_data=dataset[pandas_fieldname[0]]"
   ]
  },
  {
   "cell_type": "code",
   "execution_count": 21,
   "metadata": {
    "collapsed": false
   },
   "outputs": [
    {
     "name": "stdout",
     "output_type": "stream",
     "text": [
      "2016-01-01   2016   01\n",
      "2016-02-01   2016   02\n",
      "2016-03-01   2016   03\n",
      "2016-04-01   2016   04\n",
      "2016-05-01   2016   05\n",
      "2016-06-01   2016   06\n",
      "2016-07-01   2016   07\n",
      "2016-08-01   2016   08\n",
      "2016-09-01   2016   09\n",
      "2016-10-01   2016   10\n"
     ]
    }
   ],
   "source": [
    "for the_date in dates_data:\n",
    "    the_year_str=the_date.split('-')[0]\n",
    "    the_month_str=the_date.split('-')[1]\n",
    "    print the_date,' ',the_year_str,' ',the_month_str "
   ]
  },
  {
   "cell_type": "markdown",
   "metadata": {},
   "source": [
    "## extract "
   ]
  },
  {
   "cell_type": "code",
   "execution_count": 22,
   "metadata": {
    "collapsed": false
   },
   "outputs": [],
   "source": [
    "\n",
    "dates_data=dataset[pandas_fieldname[0]]\n",
    "data_month_aver=dataset[pandas_fieldname[1]]\n",
    "av=data_month_aver.mean()\n",
    "data_month_sdev=dataset[pandas_fieldname[4]]\n",
    "data_month_ct=dataset[pandas_fieldname[2]]\n",
    "data_month_err=dataset[pandas_fieldname[3]]\n",
    "data_month_p1std=data_month_aver+data_month_sdev\n",
    "data_month_m1std=data_month_aver-data_month_sdev\n",
    "data_month_min=dataset[pandas_fieldname[5]]\n",
    "data_month_max=dataset[pandas_fieldname[6]]\n",
    "NBFILES=dates_data.shape[0]"
   ]
  },
  {
   "cell_type": "markdown",
   "metadata": {},
   "source": [
    "## 3) Plots"
   ]
  },
  {
   "cell_type": "markdown",
   "metadata": {},
   "source": [
    "### Plot varation month to month"
   ]
  },
  {
   "cell_type": "code",
   "execution_count": 36,
   "metadata": {
    "collapsed": true
   },
   "outputs": [],
   "source": [
    "YMIN=0\n",
    "YMAX=30"
   ]
  },
  {
   "cell_type": "code",
   "execution_count": 35,
   "metadata": {
    "collapsed": false
   },
   "outputs": [
    {
     "data": {
      "image/png": "[encoded data removed]",
      "text/plain": [
       "<matplotlib.figure.Figure at 0x1176cb590>"
      ]
     },
     "metadata": {},
     "output_type": "display_data"
    }
   ],
   "source": [
    "fig=plt.figure(figsize=(10,6))\n",
    "ax=fig.add_subplot(1,1,1)\n",
    "\n",
    "ax.plot_date(dates_data, data_month_aver,'ro-',label='average',linewidth=3)\n",
    "ax.plot_date(dates_data, data_month_p1std,'b-',label='sdev',linewidth=2)\n",
    "ax.plot_date(dates_data, data_month_m1std,'b-',label='sdev',linewidth=2)\n",
    "ax.plot_date(dates_data, data_month_min,'k-',label='min',linewidth=1)\n",
    "ax.plot_date(dates_data, data_month_max,'k-',label='max',linewidth=1)\n",
    "\n",
    "\n",
    "avline=np.ones(NBFILES)*av\n",
    "ax.plot_date(dates_data, avline,'b--',linewidth=2)\n",
    "\n",
    "ax.set_ylim(YMIN,YMAX)\n",
    "\n",
    "\n",
    "ax.set_ylabel(DATAFIELD_UNIT)\n",
    "ax.set_xlabel('Month')\n",
    "\n",
    "ax.grid(True)\n",
    "\n",
    "\n",
    "plt.title(DATA_TITLE)\n",
    "plt.legend(loc='best')\n",
    "\n",
    "plt.savefig(figfilename1, bbox_inches='tight')"
   ]
  },
  {
   "cell_type": "markdown",
   "metadata": {},
   "source": [
    "### Plot relative error"
   ]
  },
  {
   "cell_type": "code",
   "execution_count": 33,
   "metadata": {
    "collapsed": false
   },
   "outputs": [
    {
     "data": {
      "image/png": "[encoded data removed]",
      "text/plain": [
       "<matplotlib.figure.Figure at 0x1176cb7d0>"
      ]
     },
     "metadata": {},
     "output_type": "display_data"
    }
   ],
   "source": [
    "\n",
    "fig=plt.figure(figsize=(10,6))\n",
    "ax=fig.add_subplot(1,1,1)\n",
    "\n",
    "ratio_data_month_aver=data_month_aver/av\n",
    "\n",
    "ratio_data_month_p1std= data_month_p1std/av\n",
    "ratio_data_month_m1std =data_month_m1std/av\n",
    "\n",
    "ratio_data_month_min = data_month_min/av\n",
    "ratio_data_month_max = data_month_max/av\n",
    "\n",
    "ax.plot_date(dates_data, ratio_data_month_aver,'ro-',label='average',linewidth=3)\n",
    "ax.plot_date(dates_data, ratio_data_month_p1std,'b-',label='sdev',linewidth=2)\n",
    "ax.plot_date(dates_data, ratio_data_month_m1std,'b-',label='sdev',linewidth=2)\n",
    "ax.plot_date(dates_data, ratio_data_month_min,'k-',label='min',linewidth=1)\n",
    "ax.plot_date(dates_data, ratio_data_month_max,'k-',label='max',linewidth=1)\n",
    "\n",
    "\n",
    "avline=np.ones(NBFILES)\n",
    "ax.plot_date(dates_data, avline,'b--',linewidth=2)\n",
    "\n",
    "ax.set_ylim(0.1,2)\n",
    "\n",
    "\n",
    "ax.set_ylabel('Relative variation')\n",
    "ax.set_xlabel('Month')\n",
    "\n",
    "ax.grid(True)\n",
    "\n",
    "title = 'Relative variation of '+ DATA_TITLE\n",
    "plt.title(title)\n",
    "plt.legend(loc='best')\n",
    "plt.savefig(figfilename2, bbox_inches='tight')"
   ]
  },
  {
   "cell_type": "code",
   "execution_count": 26,
   "metadata": {
    "collapsed": false
   },
   "outputs": [
    {
     "data": {
      "text/plain": [
       "u'\\\\begin{tabular}{lrrlrrrrr}\\n\\\\toprule\\n{} &  Unnamed: 0 &       std &       dates &       err &       min &        max &   average &   ct \\\\\\\\\\n\\\\midrule\\n0 &           0 &  4.531250 &  2016-01-01 &  1.445312 &  1.464844 &  22.859375 &  8.660156 &  697 \\\\\\\\\\n1 &           1 &  4.156250 &  2016-02-01 &  1.164062 &  1.163086 &  21.578125 &  7.059570 &  656 \\\\\\\\\\n2 &           2 &  4.156250 &  2016-03-01 &  1.226562 &  1.695312 &  21.125000 &  7.851562 &  696 \\\\\\\\\\n3 &           3 &  4.406250 &  2016-04-01 &  1.226562 &  1.510742 &  24.968750 &  7.262207 &  565 \\\\\\\\\\n4 &           4 &  3.546875 &  2016-05-01 &  1.312500 &  1.780273 &  23.187500 &  6.458984 &  620 \\\\\\\\\\n5 &           5 &  3.343750 &  2016-06-01 &  1.023438 &  0.599609 &  20.828125 &  5.207520 &  573 \\\\\\\\\\n6 &           6 &  3.187500 &  2016-07-01 &  1.132812 &  0.567871 &  13.796875 &  5.212891 &  457 \\\\\\\\\\n7 &           7 &  2.593750 &  2016-08-01 &  0.906250 &  0.795898 &  16.062500 &  4.397949 &  665 \\\\\\\\\\n8 &           8 &  2.609375 &  2016-09-01 &  0.855469 &  1.005859 &  17.109375 &  4.280273 &  589 \\\\\\\\\\n9 &           9 &  2.734375 &  2016-10-01 &  1.015625 &  0.970215 &  14.757812 &  5.196289 &  630 \\\\\\\\\\n\\\\bottomrule\\n\\\\end{tabular}\\n'"
      ]
     },
     "execution_count": 26,
     "metadata": {},
     "output_type": "execute_result"
    }
   ],
   "source": [
    "dataset.to_latex()"
   ]
  },
  {
   "cell_type": "code",
   "execution_count": 27,
   "metadata": {
    "collapsed": false
   },
   "outputs": [],
   "source": [
    "cols = list(dataset.columns.values)"
   ]
  },
  {
   "cell_type": "code",
   "execution_count": 28,
   "metadata": {
    "collapsed": false
   },
   "outputs": [
    {
     "data": {
      "text/plain": [
       "['Unnamed: 0', 'std', 'dates', 'err', 'min', 'max', 'average', 'ct']"
      ]
     },
     "execution_count": 28,
     "metadata": {},
     "output_type": "execute_result"
    }
   ],
   "source": [
    "cols"
   ]
  },
  {
   "cell_type": "code",
   "execution_count": 29,
   "metadata": {
    "collapsed": false
   },
   "outputs": [],
   "source": [
    "newdataset=dataset[['dates','average','std','err','min','max','ct']]"
   ]
  },
  {
   "cell_type": "code",
   "execution_count": 30,
   "metadata": {
    "collapsed": false
   },
   "outputs": [
    {
     "data": {
      "text/html": [
       "<div>\n",
       "<table border=\"1\" class=\"dataframe\">\n",
       "  <thead>\n",
       "    <tr style=\"text-align: right;\">\n",
       "      <th></th>\n",
       "      <th>dates</th>\n",
       "      <th>average</th>\n",
       "      <th>std</th>\n",
       "      <th>err</th>\n",
       "      <th>min</th>\n",
       "      <th>max</th>\n",
       "      <th>ct</th>\n",
       "    </tr>\n",
       "  </thead>\n",
       "  <tbody>\n",
       "    <tr>\n",
       "      <th>0</th>\n",
       "      <td>2016-01-01</td>\n",
       "      <td>8.660156</td>\n",
       "      <td>4.531250</td>\n",
       "      <td>1.445312</td>\n",
       "      <td>1.464844</td>\n",
       "      <td>22.859375</td>\n",
       "      <td>697</td>\n",
       "    </tr>\n",
       "    <tr>\n",
       "      <th>1</th>\n",
       "      <td>2016-02-01</td>\n",
       "      <td>7.059570</td>\n",
       "      <td>4.156250</td>\n",
       "      <td>1.164062</td>\n",
       "      <td>1.163086</td>\n",
       "      <td>21.578125</td>\n",
       "      <td>656</td>\n",
       "    </tr>\n",
       "    <tr>\n",
       "      <th>2</th>\n",
       "      <td>2016-03-01</td>\n",
       "      <td>7.851562</td>\n",
       "      <td>4.156250</td>\n",
       "      <td>1.226562</td>\n",
       "      <td>1.695312</td>\n",
       "      <td>21.125000</td>\n",
       "      <td>696</td>\n",
       "    </tr>\n",
       "    <tr>\n",
       "      <th>3</th>\n",
       "      <td>2016-04-01</td>\n",
       "      <td>7.262207</td>\n",
       "      <td>4.406250</td>\n",
       "      <td>1.226562</td>\n",
       "      <td>1.510742</td>\n",
       "      <td>24.968750</td>\n",
       "      <td>565</td>\n",
       "    </tr>\n",
       "    <tr>\n",
       "      <th>4</th>\n",
       "      <td>2016-05-01</td>\n",
       "      <td>6.458984</td>\n",
       "      <td>3.546875</td>\n",
       "      <td>1.312500</td>\n",
       "      <td>1.780273</td>\n",
       "      <td>23.187500</td>\n",
       "      <td>620</td>\n",
       "    </tr>\n",
       "    <tr>\n",
       "      <th>5</th>\n",
       "      <td>2016-06-01</td>\n",
       "      <td>5.207520</td>\n",
       "      <td>3.343750</td>\n",
       "      <td>1.023438</td>\n",
       "      <td>0.599609</td>\n",
       "      <td>20.828125</td>\n",
       "      <td>573</td>\n",
       "    </tr>\n",
       "    <tr>\n",
       "      <th>6</th>\n",
       "      <td>2016-07-01</td>\n",
       "      <td>5.212891</td>\n",
       "      <td>3.187500</td>\n",
       "      <td>1.132812</td>\n",
       "      <td>0.567871</td>\n",
       "      <td>13.796875</td>\n",
       "      <td>457</td>\n",
       "    </tr>\n",
       "    <tr>\n",
       "      <th>7</th>\n",
       "      <td>2016-08-01</td>\n",
       "      <td>4.397949</td>\n",
       "      <td>2.593750</td>\n",
       "      <td>0.906250</td>\n",
       "      <td>0.795898</td>\n",
       "      <td>16.062500</td>\n",
       "      <td>665</td>\n",
       "    </tr>\n",
       "    <tr>\n",
       "      <th>8</th>\n",
       "      <td>2016-09-01</td>\n",
       "      <td>4.280273</td>\n",
       "      <td>2.609375</td>\n",
       "      <td>0.855469</td>\n",
       "      <td>1.005859</td>\n",
       "      <td>17.109375</td>\n",
       "      <td>589</td>\n",
       "    </tr>\n",
       "    <tr>\n",
       "      <th>9</th>\n",
       "      <td>2016-10-01</td>\n",
       "      <td>5.196289</td>\n",
       "      <td>2.734375</td>\n",
       "      <td>1.015625</td>\n",
       "      <td>0.970215</td>\n",
       "      <td>14.757812</td>\n",
       "      <td>630</td>\n",
       "    </tr>\n",
       "  </tbody>\n",
       "</table>\n",
       "</div>"
      ],
      "text/plain": [
       "        dates   average       std       err       min        max   ct\n",
       "0  2016-01-01  8.660156  4.531250  1.445312  1.464844  22.859375  697\n",
       "1  2016-02-01  7.059570  4.156250  1.164062  1.163086  21.578125  656\n",
       "2  2016-03-01  7.851562  4.156250  1.226562  1.695312  21.125000  696\n",
       "3  2016-04-01  7.262207  4.406250  1.226562  1.510742  24.968750  565\n",
       "4  2016-05-01  6.458984  3.546875  1.312500  1.780273  23.187500  620\n",
       "5  2016-06-01  5.207520  3.343750  1.023438  0.599609  20.828125  573\n",
       "6  2016-07-01  5.212891  3.187500  1.132812  0.567871  13.796875  457\n",
       "7  2016-08-01  4.397949  2.593750  0.906250  0.795898  16.062500  665\n",
       "8  2016-09-01  4.280273  2.609375  0.855469  1.005859  17.109375  589\n",
       "9  2016-10-01  5.196289  2.734375  1.015625  0.970215  14.757812  630"
      ]
     },
     "execution_count": 30,
     "metadata": {},
     "output_type": "execute_result"
    }
   ],
   "source": [
    "newdataset"
   ]
  },
  {
   "cell_type": "code",
   "execution_count": 31,
   "metadata": {
    "collapsed": false
   },
   "outputs": [
    {
     "data": {
      "text/plain": [
       "u'\\\\begin{tabular}{lrrrrrr}\\n\\\\toprule\\n      dates &   average &       std &       err &       min &        max &   ct \\\\\\\\\\n\\\\midrule\\n 2016-01-01 &  8.660156 &  4.531250 &  1.445312 &  1.464844 &  22.859375 &  697 \\\\\\\\\\n 2016-02-01 &  7.059570 &  4.156250 &  1.164062 &  1.163086 &  21.578125 &  656 \\\\\\\\\\n 2016-03-01 &  7.851562 &  4.156250 &  1.226562 &  1.695312 &  21.125000 &  696 \\\\\\\\\\n 2016-04-01 &  7.262207 &  4.406250 &  1.226562 &  1.510742 &  24.968750 &  565 \\\\\\\\\\n 2016-05-01 &  6.458984 &  3.546875 &  1.312500 &  1.780273 &  23.187500 &  620 \\\\\\\\\\n 2016-06-01 &  5.207520 &  3.343750 &  1.023438 &  0.599609 &  20.828125 &  573 \\\\\\\\\\n 2016-07-01 &  5.212891 &  3.187500 &  1.132812 &  0.567871 &  13.796875 &  457 \\\\\\\\\\n 2016-08-01 &  4.397949 &  2.593750 &  0.906250 &  0.795898 &  16.062500 &  665 \\\\\\\\\\n 2016-09-01 &  4.280273 &  2.609375 &  0.855469 &  1.005859 &  17.109375 &  589 \\\\\\\\\\n 2016-10-01 &  5.196289 &  2.734375 &  1.015625 &  0.970215 &  14.757812 &  630 \\\\\\\\\\n\\\\bottomrule\\n\\\\end{tabular}\\n'"
      ]
     },
     "execution_count": 31,
     "metadata": {},
     "output_type": "execute_result"
    }
   ],
   "source": [
    "newdataset.to_latex(index=False)"
   ]
  },
  {
   "cell_type": "code",
   "execution_count": 32,
   "metadata": {
    "collapsed": false
   },
   "outputs": [
    {
     "data": {
      "text/html": [
       "<div>\n",
       "<table border=\"1\" class=\"dataframe\">\n",
       "  <thead>\n",
       "    <tr style=\"text-align: right;\">\n",
       "      <th></th>\n",
       "      <th>average</th>\n",
       "      <th>std</th>\n",
       "      <th>err</th>\n",
       "      <th>min</th>\n",
       "      <th>max</th>\n",
       "      <th>ct</th>\n",
       "    </tr>\n",
       "  </thead>\n",
       "  <tbody>\n",
       "    <tr>\n",
       "      <th>count</th>\n",
       "      <td>10.000000</td>\n",
       "      <td>10.000000</td>\n",
       "      <td>10.000000</td>\n",
       "      <td>10.000000</td>\n",
       "      <td>10.000000</td>\n",
       "      <td>10.000000</td>\n",
       "    </tr>\n",
       "    <tr>\n",
       "      <th>mean</th>\n",
       "      <td>6.158740</td>\n",
       "      <td>3.526562</td>\n",
       "      <td>1.130859</td>\n",
       "      <td>1.155371</td>\n",
       "      <td>19.627344</td>\n",
       "      <td>614.800000</td>\n",
       "    </tr>\n",
       "    <tr>\n",
       "      <th>std</th>\n",
       "      <td>1.512790</td>\n",
       "      <td>0.750110</td>\n",
       "      <td>0.183305</td>\n",
       "      <td>0.440208</td>\n",
       "      <td>3.885825</td>\n",
       "      <td>72.739719</td>\n",
       "    </tr>\n",
       "    <tr>\n",
       "      <th>min</th>\n",
       "      <td>4.280273</td>\n",
       "      <td>2.593750</td>\n",
       "      <td>0.855469</td>\n",
       "      <td>0.567871</td>\n",
       "      <td>13.796875</td>\n",
       "      <td>457.000000</td>\n",
       "    </tr>\n",
       "    <tr>\n",
       "      <th>25%</th>\n",
       "      <td>5.199097</td>\n",
       "      <td>2.847656</td>\n",
       "      <td>1.017578</td>\n",
       "      <td>0.839478</td>\n",
       "      <td>16.324219</td>\n",
       "      <td>577.000000</td>\n",
       "    </tr>\n",
       "    <tr>\n",
       "      <th>50%</th>\n",
       "      <td>5.835938</td>\n",
       "      <td>3.445312</td>\n",
       "      <td>1.148438</td>\n",
       "      <td>1.084473</td>\n",
       "      <td>20.976562</td>\n",
       "      <td>625.000000</td>\n",
       "    </tr>\n",
       "    <tr>\n",
       "      <th>75%</th>\n",
       "      <td>7.211548</td>\n",
       "      <td>4.156250</td>\n",
       "      <td>1.226562</td>\n",
       "      <td>1.499268</td>\n",
       "      <td>22.539062</td>\n",
       "      <td>662.750000</td>\n",
       "    </tr>\n",
       "    <tr>\n",
       "      <th>max</th>\n",
       "      <td>8.660156</td>\n",
       "      <td>4.531250</td>\n",
       "      <td>1.445312</td>\n",
       "      <td>1.780273</td>\n",
       "      <td>24.968750</td>\n",
       "      <td>697.000000</td>\n",
       "    </tr>\n",
       "  </tbody>\n",
       "</table>\n",
       "</div>"
      ],
      "text/plain": [
       "         average        std        err        min        max          ct\n",
       "count  10.000000  10.000000  10.000000  10.000000  10.000000   10.000000\n",
       "mean    6.158740   3.526562   1.130859   1.155371  19.627344  614.800000\n",
       "std     1.512790   0.750110   0.183305   0.440208   3.885825   72.739719\n",
       "min     4.280273   2.593750   0.855469   0.567871  13.796875  457.000000\n",
       "25%     5.199097   2.847656   1.017578   0.839478  16.324219  577.000000\n",
       "50%     5.835938   3.445312   1.148438   1.084473  20.976562  625.000000\n",
       "75%     7.211548   4.156250   1.226562   1.499268  22.539062  662.750000\n",
       "max     8.660156   4.531250   1.445312   1.780273  24.968750  697.000000"
      ]
     },
     "execution_count": 32,
     "metadata": {},
     "output_type": "execute_result"
    }
   ],
   "source": [
    "newdataset.describe()"
   ]
  },
  {
   "cell_type": "code",
   "execution_count": null,
   "metadata": {
    "collapsed": true
   },
   "outputs": [],
   "source": []
  }
 ],
 "metadata": {
  "anaconda-cloud": {},
  "kernelspec": {
   "display_name": "Python [default]",
   "language": "python",
   "name": "python2"
  },
  "language_info": {
   "codemirror_mode": {
    "name": "ipython",
    "version": 2
   },
   "file_extension": ".py",
   "mimetype": "text/x-python",
   "name": "python",
   "nbconvert_exporter": "python",
   "pygments_lexer": "ipython2",
   "version": "2.7.11"
  }
 },
 "nbformat": 4,
 "nbformat_minor": 0
}
