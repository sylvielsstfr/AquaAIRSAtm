{
 "cells": [
  {
   "cell_type": "markdown",
   "metadata": {},
   "source": [
    "# Scan of L3 AIRS Data on H2O during One Year\n",
    "------------------------------------------------------------------\n",
    "\n",
    "- author: Sylvie Dagoret-Campagne\n",
    "- creation November 22 Novembre 2016\n",
    "\n",
    "\n",
    "### purpose:\n",
    "\n",
    "Analyse AIRS instrument data from AQUA satellite for LSST air transparency simulation\n",
    "\n",
    "- http://acdisc.gsfc.nasa.gov/data/Aqua_AIRS_Level3/AIRX3STM.006/\n",
    "\n",
    "These data are provided by the Goddard Earth Science:\n",
    "\n",
    "- http://disc.gsfc.nasa.gov/acdisc\n"
   ]
  },
  {
   "cell_type": "markdown",
   "metadata": {},
   "source": [
    "## 1) python libraries\n",
    "---------------------------"
   ]
  },
  {
   "cell_type": "code",
   "execution_count": 126,
   "metadata": {
    "collapsed": false
   },
   "outputs": [],
   "source": [
    "# Set up matplotlib and use a nicer set of plot parameters\n",
    "%config InlineBackend.rc = {}\n",
    "import matplotlib\n",
    "import matplotlib as mpl\n",
    "matplotlib.rc_file(\"templates/matplotlibrc\")\n",
    "import matplotlib.pyplot as plt\n",
    "%matplotlib inline"
   ]
  },
  {
   "cell_type": "code",
   "execution_count": 127,
   "metadata": {
    "collapsed": true
   },
   "outputs": [],
   "source": [
    "import datetime"
   ]
  },
  {
   "cell_type": "code",
   "execution_count": 128,
   "metadata": {
    "collapsed": true
   },
   "outputs": [],
   "source": [
    "from matplotlib.dates import MonthLocator, WeekdayLocator,DateFormatter\n",
    "from matplotlib.dates import MONDAY"
   ]
  },
  {
   "cell_type": "code",
   "execution_count": 129,
   "metadata": {
    "collapsed": true
   },
   "outputs": [],
   "source": [
    "mondays = WeekdayLocator(MONDAY)\n",
    "months = MonthLocator(range(1, 13), bymonthday=1, interval=1)\n",
    "monthsFmt = DateFormatter(\"%b '%y\")"
   ]
  },
  {
   "cell_type": "code",
   "execution_count": 130,
   "metadata": {
    "collapsed": false
   },
   "outputs": [],
   "source": [
    "import os\n",
    "import re\n",
    "import numpy as np\n",
    "from mpl_toolkits.basemap import Basemap\n",
    "from matplotlib import colors\n",
    "from matplotlib.backends.backend_pdf import PdfPages\n",
    "import pandas as pd"
   ]
  },
  {
   "cell_type": "code",
   "execution_count": 131,
   "metadata": {
    "collapsed": true
   },
   "outputs": [],
   "source": [
    "from astropy import units as u\n",
    "from astropy.coordinates import SkyCoord"
   ]
  },
  {
   "cell_type": "code",
   "execution_count": 132,
   "metadata": {
    "collapsed": true
   },
   "outputs": [],
   "source": [
    "import pyhdf"
   ]
  },
  {
   "cell_type": "code",
   "execution_count": 133,
   "metadata": {
    "collapsed": false
   },
   "outputs": [],
   "source": [
    "from pyhdf.SD import SD,SDC"
   ]
  },
  {
   "cell_type": "code",
   "execution_count": 134,
   "metadata": {
    "collapsed": false
   },
   "outputs": [],
   "source": [
    "import libAIRSL3Data as airs  # My own library"
   ]
  },
  {
   "cell_type": "code",
   "execution_count": 135,
   "metadata": {
    "collapsed": false
   },
   "outputs": [],
   "source": [
    "############################################################################\n",
    "def ensure_dir(f):\n",
    "    d = os.path.dirname(f)\n",
    "    if not os.path.exists(f):\n",
    "        os.makedirs(f)\n",
    "#########################################################################"
   ]
  },
  {
   "cell_type": "markdown",
   "metadata": {},
   "source": [
    "## 1)  Configuration\n",
    "-------------------------"
   ]
  },
  {
   "cell_type": "code",
   "execution_count": 136,
   "metadata": {
    "collapsed": false
   },
   "outputs": [],
   "source": [
    "# where are the HDF files\n",
    "# 9 month\n",
    "#HDFEOS_ZOO_DIR=\"/Users/dagoret-campagnesylvie/MacOsX/LSST/MyWork/GitHub/NASA_AIRS_AQUA_DATA/AIRH3STM/2016/h4\" \n",
    "# 10 months\n",
    "HDFEOS_ZOO_DIR=\"/Users/dagoret-campagnesylvie/MacOsX/LSST/MyWork/GitHub/NASA_AIRS_AQUA_DATA/AIRS3STM/2016/h4\""
   ]
  },
  {
   "cell_type": "code",
   "execution_count": 137,
   "metadata": {
    "collapsed": false
   },
   "outputs": [],
   "source": [
    "path=HDFEOS_ZOO_DIR"
   ]
  },
  {
   "cell_type": "code",
   "execution_count": 138,
   "metadata": {
    "collapsed": true
   },
   "outputs": [],
   "source": [
    "# The selected data field\n",
    "DATAFIELD_NAME =  'TotH2OVap_D'   # Select Ozone column Depth"
   ]
  },
  {
   "cell_type": "code",
   "execution_count": 139,
   "metadata": {
    "collapsed": true
   },
   "outputs": [],
   "source": [
    "DATAFIELD_UNIT = DATAFIELD_NAME+'(kg/m2)'  # Unit"
   ]
  },
  {
   "cell_type": "code",
   "execution_count": 140,
   "metadata": {
    "collapsed": true
   },
   "outputs": [],
   "source": [
    "DATA_TITLE = 'Water Vapor column depth measured by AIRS in 2016 at CTIO/LSST'  # Title in figures"
   ]
  },
  {
   "cell_type": "code",
   "execution_count": 141,
   "metadata": {
    "collapsed": false
   },
   "outputs": [],
   "source": [
    "pandas_filename='AIRS_2016_'+DATAFIELD_NAME+'.csv'\n",
    "pandas_fieldname=['dates','average','ct','err','std','min','max']"
   ]
  },
  {
   "cell_type": "code",
   "execution_count": 142,
   "metadata": {
    "collapsed": true
   },
   "outputs": [],
   "source": [
    "figfilename1='AIRS2016_'+DATAFIELD_NAME+'.jpg'\n",
    "figfilename2='AIRS2016_'+DATAFIELD_NAME+'pres'+'.jpg'"
   ]
  },
  {
   "cell_type": "code",
   "execution_count": 143,
   "metadata": {
    "collapsed": true
   },
   "outputs": [],
   "source": [
    "# Select observatory\n",
    "loc=airs.observatory_location('ctio')"
   ]
  },
  {
   "cell_type": "markdown",
   "metadata": {},
   "source": [
    "### 1.2) Getting the list of the files\n",
    "------------------------------"
   ]
  },
  {
   "cell_type": "code",
   "execution_count": 144,
   "metadata": {
    "collapsed": false
   },
   "outputs": [],
   "source": [
    "h4_files = [f for f in os.listdir(path) if f.endswith('.hdf')]  \n",
    "NBFILES=len(h4_files)\n",
    "\n",
    "full_h4files=[]\n",
    "\n",
    "for file in h4_files:\n",
    "    fname = os.path.join(path, file)\n",
    "    full_h4files.append(fname) "
   ]
  },
  {
   "cell_type": "markdown",
   "metadata": {},
   "source": [
    "####  Fill information on years and months from the filenames"
   ]
  },
  {
   "cell_type": "code",
   "execution_count": 145,
   "metadata": {
    "collapsed": false
   },
   "outputs": [],
   "source": [
    "years_coll = []\n",
    "months_coll = []\n",
    "for file in h4_files:\n",
    "    the_date=re.findall('^AIRS[.](.+)[.]L3.*',file)[0]\n",
    "    the_year_str=the_date.split('.')[0]\n",
    "    the_month_str=the_date.split('.')[1]\n",
    "    years_coll.append(int(the_year_str))\n",
    "    months_coll.append(int(the_month_str))\n",
    "    "
   ]
  },
  {
   "cell_type": "markdown",
   "metadata": {},
   "source": [
    "#### Build the list of dates"
   ]
  },
  {
   "cell_type": "code",
   "execution_count": 146,
   "metadata": {
    "collapsed": false
   },
   "outputs": [],
   "source": [
    "dates_data= [datetime.date(years_coll[idx], months_coll[idx], 1) for idx in range(0,NBFILES) ]"
   ]
  },
  {
   "cell_type": "code",
   "execution_count": null,
   "metadata": {
    "collapsed": false
   },
   "outputs": [],
   "source": []
  },
  {
   "cell_type": "code",
   "execution_count": 147,
   "metadata": {
    "collapsed": false
   },
   "outputs": [],
   "source": [
    "data_monthaverage=[]\n",
    "data_month_ct=[]\n",
    "data_month_err=[]\n",
    "data_month_max=[]\n",
    "data_month_min=[]\n",
    "data_month_sdev=[]\n",
    "\n",
    "for idf in np.arange(0,NBFILES):\n",
    "    FILE_NAME=full_h4files[idf]\n",
    "    data3D=airs.GetData(FILE_NAME,DATAFIELD_NAME)    \n",
    "    data_aver= data3D[:,:] ## Ozone has no additional dimensions      \n",
    "    lat = airs.GetData(FILE_NAME,'Latitude')\n",
    "    latitude = lat[:,:]\n",
    "    lon = airs.GetData(FILE_NAME,'Longitude')\n",
    "    longitude = lon[:,:]\n",
    "    \n",
    "    # Handle fill value.\n",
    "    attrs = data3D.attributes(full=1)\n",
    "    fillvalue=attrs[\"_FillValue\"]\n",
    "\n",
    "    # fillvalue[0] is the attribute value.\n",
    "    fv = fillvalue[0]\n",
    "    data_aver[data_aver == fv] = np.nan\n",
    "    data_aver = np.ma.masked_array(data_aver, np.isnan(data_aver))\n",
    "    (ctio_min_long_index, ctio_min_lat_index,extrdata)=airs.SelectBin(longitude,latitude,data_aver,loc[0],loc[1])\n",
    "    data_monthaverage.append(extrdata)\n",
    "    \n",
    "    \n",
    "    # Get the Ct\n",
    "    DATAFIELD_NAME_CT=DATAFIELD_NAME+'_ct'\n",
    "    data3D=airs.GetData(FILE_NAME,DATAFIELD_NAME_CT)\n",
    "    data_ct= data3D[:,:] ## Ozone has no additional dimensions\n",
    "    #attrs = data3D.attributes(full=1)\n",
    "    #fillvalue=attrs[\"_FillValue\"]\n",
    "    # fillvalue[0] is the attribute value.\n",
    "    #fv = fillvalue[0]\n",
    "    #data_ct[data_ct == fv] = np.nan\n",
    "    #data_ct = np.ma.masked_array(data_ct, np.isnan(data_ct))\n",
    "    (ctio_min_long_index, ctio_min_lat_index,extrdata)=airs.SelectBin(longitude,latitude,data_ct,loc[0],loc[1])\n",
    "    data_month_ct.append(extrdata)\n",
    "    \n",
    "    \n",
    "    \n",
    "    # Get the errors\n",
    "    DATAFIELD_NAME_ERR=DATAFIELD_NAME+'_err'\n",
    "    data3D=airs.GetData(FILE_NAME,DATAFIELD_NAME_ERR)\n",
    "    data_err= data3D[:,:] ## Ozone has no additional dimensions\n",
    "    \n",
    "    (ctio_min_long_index, ctio_min_lat_index,extrdata)=airs.SelectBin(longitude,latitude,data_err,loc[0],loc[1])\n",
    "    data_month_err.append(extrdata)\n",
    "    \n",
    "    \n",
    "    # Get the STD\n",
    "    DATAFIELD_NAME_STD=DATAFIELD_NAME+'_sdev'\n",
    "    data3D=airs.GetData(FILE_NAME,DATAFIELD_NAME_STD)\n",
    "    data_std= data3D[:,:] ## Ozone has no additional dimensions\n",
    "    \n",
    "    (ctio_min_long_index, ctio_min_lat_index,extrdata)=airs.SelectBin(longitude,latitude,data_std,loc[0],loc[1])\n",
    "    data_month_sdev.append(extrdata)\n",
    "    \n",
    "    # Get the MAX\n",
    "    DATAFIELD_NAME_MAX=DATAFIELD_NAME+'_max'\n",
    "    data3D=airs.GetData(FILE_NAME,DATAFIELD_NAME_MAX)\n",
    "    data_max= data3D[:,:] ## Ozone has no additional dimensions\n",
    "    \n",
    "    (ctio_min_long_index, ctio_min_lat_index,extrdata)=airs.SelectBin(longitude,latitude,data_max,loc[0],loc[1])\n",
    "    data_month_max.append(extrdata)\n",
    "    \n",
    "    \n",
    "        # Get the MIN\n",
    "    DATAFIELD_NAME_MIN=DATAFIELD_NAME+'_min'\n",
    "    data3D=airs.GetData(FILE_NAME,DATAFIELD_NAME_MIN)\n",
    "    data_min= data3D[:,:] ## Ozone has no additional dimensions\n",
    "    \n",
    "    (ctio_min_long_index, ctio_min_lat_index,extrdata)=airs.SelectBin(longitude,latitude,data_min,loc[0],loc[1])\n",
    "    data_month_min.append(extrdata)\n",
    "    \n",
    "    "
   ]
  },
  {
   "cell_type": "markdown",
   "metadata": {},
   "source": [
    "### Transform into numpy array"
   ]
  },
  {
   "cell_type": "code",
   "execution_count": 148,
   "metadata": {
    "collapsed": true
   },
   "outputs": [],
   "source": [
    "data_month_aver=np.array(data_monthaverage)\n",
    "av=data_month_aver.mean()\n",
    "data_month_std=np.array(data_month_sdev)\n",
    "data_month_ct=np.array(data_month_ct)\n",
    "data_month_err=np.array(data_month_err)\n",
    "data_month_p1std=np.array(data_monthaverage)+np.array(data_month_sdev)\n",
    "data_month_m1std=np.array(data_monthaverage)-np.array(data_month_sdev)\n",
    "data_month_min=np.array(data_month_min)\n",
    "data_month_max=np.array(data_month_max)\n",
    "dates_data=np.array(dates_data)"
   ]
  },
  {
   "cell_type": "markdown",
   "metadata": {},
   "source": [
    "## 3) Plots"
   ]
  },
  {
   "cell_type": "markdown",
   "metadata": {},
   "source": [
    "### Plot varation month to month"
   ]
  },
  {
   "cell_type": "code",
   "execution_count": 149,
   "metadata": {
    "collapsed": true
   },
   "outputs": [],
   "source": [
    "YMIN=0\n",
    "YMAX=30"
   ]
  },
  {
   "cell_type": "code",
   "execution_count": 150,
   "metadata": {
    "collapsed": false
   },
   "outputs": [
    {
     "data": {
      "image/png": "[encoded data removed]",
      "text/plain": [
       "<matplotlib.figure.Figure at 0x1197b7790>"
      ]
     },
     "metadata": {},
     "output_type": "display_data"
    }
   ],
   "source": [
    "fig=plt.figure(figsize=(10,6))\n",
    "ax=fig.add_subplot(1,1,1)\n",
    "\n",
    "ax.plot_date(dates_data, data_month_aver,'ro-',label='average',linewidth=3)\n",
    "ax.plot_date(dates_data, data_month_p1std,'b-',label='sdev',linewidth=2)\n",
    "ax.plot_date(dates_data, data_month_m1std,'b-',label='sdev',linewidth=2)\n",
    "ax.plot_date(dates_data, data_month_min,'k-',label='min',linewidth=1)\n",
    "ax.plot_date(dates_data, data_month_max,'k-',label='max',linewidth=1)\n",
    "\n",
    "\n",
    "avline=np.ones(NBFILES)*av\n",
    "ax.plot_date(dates_data, avline,'b--',linewidth=2)\n",
    "\n",
    "ax.set_ylim(YMIN,YMAX)\n",
    "\n",
    "\n",
    "ax.set_ylabel(DATAFIELD_UNIT)\n",
    "ax.set_xlabel('Month')\n",
    "\n",
    "ax.grid(True)\n",
    "\n",
    "\n",
    "plt.title(DATA_TITLE)\n",
    "plt.legend(loc='best')\n",
    "\n",
    "plt.savefig(figfilename1, bbox_inches='tight')"
   ]
  },
  {
   "cell_type": "markdown",
   "metadata": {},
   "source": [
    "### Plot relative error"
   ]
  },
  {
   "cell_type": "code",
   "execution_count": 151,
   "metadata": {
    "collapsed": false
   },
   "outputs": [
    {
     "data": {
      "image/png": "[encoded data removed]",
      "text/plain": [
       "<matplotlib.figure.Figure at 0x1187a8c50>"
      ]
     },
     "metadata": {},
     "output_type": "display_data"
    }
   ],
   "source": [
    "\n",
    "fig=plt.figure(figsize=(10,6))\n",
    "ax=fig.add_subplot(1,1,1)\n",
    "\n",
    "ratio_data_month_aver=data_month_aver/av\n",
    "\n",
    "ratio_data_month_p1std= data_month_p1std/av\n",
    "ratio_data_month_m1std =data_month_m1std/av\n",
    "\n",
    "ratio_data_month_min = data_month_min/av\n",
    "ratio_data_month_max = data_month_max/av\n",
    "\n",
    "ax.plot_date(dates_data, ratio_data_month_aver,'ro-',label='average',linewidth=3)\n",
    "ax.plot_date(dates_data, ratio_data_month_p1std,'b-',label='sdev',linewidth=2)\n",
    "ax.plot_date(dates_data, ratio_data_month_m1std,'b-',label='sdev',linewidth=2)\n",
    "ax.plot_date(dates_data, ratio_data_month_min,'k-',label='min',linewidth=1)\n",
    "ax.plot_date(dates_data, ratio_data_month_max,'k-',label='max',linewidth=1)\n",
    "\n",
    "\n",
    "avline=np.ones(NBFILES)\n",
    "ax.plot_date(dates_data, avline,'b--',linewidth=2)\n",
    "\n",
    "ax.set_ylim(0.,5)\n",
    "\n",
    "\n",
    "ax.set_ylabel('Relative variation')\n",
    "ax.set_xlabel('Month')\n",
    "\n",
    "ax.grid(True)\n",
    "\n",
    "title = 'Relative variation of '+ DATA_TITLE\n",
    "plt.title(title)\n",
    "plt.legend(loc='best')\n",
    "plt.savefig(figfilename2, bbox_inches='tight')"
   ]
  },
  {
   "cell_type": "markdown",
   "metadata": {
    "collapsed": true
   },
   "source": [
    "## 4)  Save data  in file pandas\n",
    "----------------------------------------"
   ]
  },
  {
   "cell_type": "code",
   "execution_count": 152,
   "metadata": {
    "collapsed": false
   },
   "outputs": [],
   "source": [
    "data_dict={pandas_fieldname[0]:dates_data,\n",
    "           pandas_fieldname[1]:data_month_aver, \n",
    "           pandas_fieldname[2]:data_month_ct, \n",
    "           pandas_fieldname[3]:data_month_err,\n",
    "           pandas_fieldname[4]:data_month_std, \n",
    "           pandas_fieldname[5]:data_month_min,\n",
    "           pandas_fieldname[6]:data_month_max}"
   ]
  },
  {
   "cell_type": "code",
   "execution_count": 153,
   "metadata": {
    "collapsed": false
   },
   "outputs": [],
   "source": [
    "dataset=pd.DataFrame(data_dict,columns={pandas_fieldname[0],\n",
    "                                        pandas_fieldname[1],\n",
    "                                        pandas_fieldname[2],\n",
    "                                        pandas_fieldname[3],\n",
    "                                        pandas_fieldname[4],\n",
    "                                        pandas_fieldname[5],\n",
    "                                        pandas_fieldname[6]})"
   ]
  },
  {
   "cell_type": "code",
   "execution_count": 154,
   "metadata": {
    "collapsed": false
   },
   "outputs": [
    {
     "data": {
      "text/html": [
       "<div>\n",
       "<table border=\"1\" class=\"dataframe\">\n",
       "  <thead>\n",
       "    <tr style=\"text-align: right;\">\n",
       "      <th></th>\n",
       "      <th>std</th>\n",
       "      <th>err</th>\n",
       "      <th>min</th>\n",
       "      <th>max</th>\n",
       "      <th>average</th>\n",
       "      <th>ct</th>\n",
       "    </tr>\n",
       "  </thead>\n",
       "  <tbody>\n",
       "    <tr>\n",
       "      <th>count</th>\n",
       "      <td>10.000000</td>\n",
       "      <td>10.000000</td>\n",
       "      <td>10.000000</td>\n",
       "      <td>10.000000</td>\n",
       "      <td>10.000000</td>\n",
       "      <td>10.000000</td>\n",
       "    </tr>\n",
       "    <tr>\n",
       "      <th>mean</th>\n",
       "      <td>3.526562</td>\n",
       "      <td>1.130859</td>\n",
       "      <td>1.155371</td>\n",
       "      <td>19.627344</td>\n",
       "      <td>6.158740</td>\n",
       "      <td>614.800000</td>\n",
       "    </tr>\n",
       "    <tr>\n",
       "      <th>std</th>\n",
       "      <td>0.750110</td>\n",
       "      <td>0.183305</td>\n",
       "      <td>0.440208</td>\n",
       "      <td>3.885825</td>\n",
       "      <td>1.512790</td>\n",
       "      <td>72.739719</td>\n",
       "    </tr>\n",
       "    <tr>\n",
       "      <th>min</th>\n",
       "      <td>2.593750</td>\n",
       "      <td>0.855469</td>\n",
       "      <td>0.567871</td>\n",
       "      <td>13.796875</td>\n",
       "      <td>4.280273</td>\n",
       "      <td>457.000000</td>\n",
       "    </tr>\n",
       "    <tr>\n",
       "      <th>25%</th>\n",
       "      <td>2.847656</td>\n",
       "      <td>1.017578</td>\n",
       "      <td>0.839478</td>\n",
       "      <td>16.324219</td>\n",
       "      <td>5.199097</td>\n",
       "      <td>577.000000</td>\n",
       "    </tr>\n",
       "    <tr>\n",
       "      <th>50%</th>\n",
       "      <td>3.445312</td>\n",
       "      <td>1.148438</td>\n",
       "      <td>1.084473</td>\n",
       "      <td>20.976562</td>\n",
       "      <td>5.835938</td>\n",
       "      <td>625.000000</td>\n",
       "    </tr>\n",
       "    <tr>\n",
       "      <th>75%</th>\n",
       "      <td>4.156250</td>\n",
       "      <td>1.226562</td>\n",
       "      <td>1.499268</td>\n",
       "      <td>22.539062</td>\n",
       "      <td>7.211548</td>\n",
       "      <td>662.750000</td>\n",
       "    </tr>\n",
       "    <tr>\n",
       "      <th>max</th>\n",
       "      <td>4.531250</td>\n",
       "      <td>1.445312</td>\n",
       "      <td>1.780273</td>\n",
       "      <td>24.968750</td>\n",
       "      <td>8.660156</td>\n",
       "      <td>697.000000</td>\n",
       "    </tr>\n",
       "  </tbody>\n",
       "</table>\n",
       "</div>"
      ],
      "text/plain": [
       "             std        err        min        max    average          ct\n",
       "count  10.000000  10.000000  10.000000  10.000000  10.000000   10.000000\n",
       "mean    3.526562   1.130859   1.155371  19.627344   6.158740  614.800000\n",
       "std     0.750110   0.183305   0.440208   3.885825   1.512790   72.739719\n",
       "min     2.593750   0.855469   0.567871  13.796875   4.280273  457.000000\n",
       "25%     2.847656   1.017578   0.839478  16.324219   5.199097  577.000000\n",
       "50%     3.445312   1.148438   1.084473  20.976562   5.835938  625.000000\n",
       "75%     4.156250   1.226562   1.499268  22.539062   7.211548  662.750000\n",
       "max     4.531250   1.445312   1.780273  24.968750   8.660156  697.000000"
      ]
     },
     "execution_count": 154,
     "metadata": {},
     "output_type": "execute_result"
    }
   ],
   "source": [
    "dataset.describe()"
   ]
  },
  {
   "cell_type": "code",
   "execution_count": 155,
   "metadata": {
    "collapsed": false
   },
   "outputs": [
    {
     "data": {
      "text/html": [
       "<div>\n",
       "<table border=\"1\" class=\"dataframe\">\n",
       "  <thead>\n",
       "    <tr style=\"text-align: right;\">\n",
       "      <th></th>\n",
       "      <th>std</th>\n",
       "      <th>dates</th>\n",
       "      <th>err</th>\n",
       "      <th>min</th>\n",
       "      <th>max</th>\n",
       "      <th>average</th>\n",
       "      <th>ct</th>\n",
       "    </tr>\n",
       "  </thead>\n",
       "  <tbody>\n",
       "    <tr>\n",
       "      <th>0</th>\n",
       "      <td>4.531250</td>\n",
       "      <td>2016-01-01</td>\n",
       "      <td>1.445312</td>\n",
       "      <td>1.464844</td>\n",
       "      <td>22.859375</td>\n",
       "      <td>8.660156</td>\n",
       "      <td>697</td>\n",
       "    </tr>\n",
       "    <tr>\n",
       "      <th>1</th>\n",
       "      <td>4.156250</td>\n",
       "      <td>2016-02-01</td>\n",
       "      <td>1.164062</td>\n",
       "      <td>1.163086</td>\n",
       "      <td>21.578125</td>\n",
       "      <td>7.059570</td>\n",
       "      <td>656</td>\n",
       "    </tr>\n",
       "    <tr>\n",
       "      <th>2</th>\n",
       "      <td>4.156250</td>\n",
       "      <td>2016-03-01</td>\n",
       "      <td>1.226562</td>\n",
       "      <td>1.695312</td>\n",
       "      <td>21.125000</td>\n",
       "      <td>7.851562</td>\n",
       "      <td>696</td>\n",
       "    </tr>\n",
       "    <tr>\n",
       "      <th>3</th>\n",
       "      <td>4.406250</td>\n",
       "      <td>2016-04-01</td>\n",
       "      <td>1.226562</td>\n",
       "      <td>1.510742</td>\n",
       "      <td>24.968750</td>\n",
       "      <td>7.262207</td>\n",
       "      <td>565</td>\n",
       "    </tr>\n",
       "    <tr>\n",
       "      <th>4</th>\n",
       "      <td>3.546875</td>\n",
       "      <td>2016-05-01</td>\n",
       "      <td>1.312500</td>\n",
       "      <td>1.780273</td>\n",
       "      <td>23.187500</td>\n",
       "      <td>6.458984</td>\n",
       "      <td>620</td>\n",
       "    </tr>\n",
       "  </tbody>\n",
       "</table>\n",
       "</div>"
      ],
      "text/plain": [
       "        std       dates       err       min        max   average   ct\n",
       "0  4.531250  2016-01-01  1.445312  1.464844  22.859375  8.660156  697\n",
       "1  4.156250  2016-02-01  1.164062  1.163086  21.578125  7.059570  656\n",
       "2  4.156250  2016-03-01  1.226562  1.695312  21.125000  7.851562  696\n",
       "3  4.406250  2016-04-01  1.226562  1.510742  24.968750  7.262207  565\n",
       "4  3.546875  2016-05-01  1.312500  1.780273  23.187500  6.458984  620"
      ]
     },
     "execution_count": 155,
     "metadata": {},
     "output_type": "execute_result"
    }
   ],
   "source": [
    "dataset.head()"
   ]
  },
  {
   "cell_type": "code",
   "execution_count": 156,
   "metadata": {
    "collapsed": true
   },
   "outputs": [],
   "source": [
    "dataset.to_csv(pandas_filename)"
   ]
  },
  {
   "cell_type": "code",
   "execution_count": 157,
   "metadata": {
    "collapsed": true
   },
   "outputs": [],
   "source": [
    "saved_dataset=pd.read_csv(pandas_filename)"
   ]
  },
  {
   "cell_type": "code",
   "execution_count": 158,
   "metadata": {
    "collapsed": false
   },
   "outputs": [
    {
     "data": {
      "text/html": [
       "<div>\n",
       "<table border=\"1\" class=\"dataframe\">\n",
       "  <thead>\n",
       "    <tr style=\"text-align: right;\">\n",
       "      <th></th>\n",
       "      <th>Unnamed: 0</th>\n",
       "      <th>std</th>\n",
       "      <th>dates</th>\n",
       "      <th>err</th>\n",
       "      <th>min</th>\n",
       "      <th>max</th>\n",
       "      <th>average</th>\n",
       "      <th>ct</th>\n",
       "    </tr>\n",
       "  </thead>\n",
       "  <tbody>\n",
       "    <tr>\n",
       "      <th>0</th>\n",
       "      <td>0</td>\n",
       "      <td>4.531250</td>\n",
       "      <td>2016-01-01</td>\n",
       "      <td>1.445312</td>\n",
       "      <td>1.464844</td>\n",
       "      <td>22.859375</td>\n",
       "      <td>8.660156</td>\n",
       "      <td>697</td>\n",
       "    </tr>\n",
       "    <tr>\n",
       "      <th>1</th>\n",
       "      <td>1</td>\n",
       "      <td>4.156250</td>\n",
       "      <td>2016-02-01</td>\n",
       "      <td>1.164062</td>\n",
       "      <td>1.163086</td>\n",
       "      <td>21.578125</td>\n",
       "      <td>7.059570</td>\n",
       "      <td>656</td>\n",
       "    </tr>\n",
       "    <tr>\n",
       "      <th>2</th>\n",
       "      <td>2</td>\n",
       "      <td>4.156250</td>\n",
       "      <td>2016-03-01</td>\n",
       "      <td>1.226562</td>\n",
       "      <td>1.695312</td>\n",
       "      <td>21.125000</td>\n",
       "      <td>7.851562</td>\n",
       "      <td>696</td>\n",
       "    </tr>\n",
       "    <tr>\n",
       "      <th>3</th>\n",
       "      <td>3</td>\n",
       "      <td>4.406250</td>\n",
       "      <td>2016-04-01</td>\n",
       "      <td>1.226562</td>\n",
       "      <td>1.510742</td>\n",
       "      <td>24.968750</td>\n",
       "      <td>7.262207</td>\n",
       "      <td>565</td>\n",
       "    </tr>\n",
       "    <tr>\n",
       "      <th>4</th>\n",
       "      <td>4</td>\n",
       "      <td>3.546875</td>\n",
       "      <td>2016-05-01</td>\n",
       "      <td>1.312500</td>\n",
       "      <td>1.780273</td>\n",
       "      <td>23.187500</td>\n",
       "      <td>6.458984</td>\n",
       "      <td>620</td>\n",
       "    </tr>\n",
       "  </tbody>\n",
       "</table>\n",
       "</div>"
      ],
      "text/plain": [
       "   Unnamed: 0       std       dates       err       min        max   average  \\\n",
       "0           0  4.531250  2016-01-01  1.445312  1.464844  22.859375  8.660156   \n",
       "1           1  4.156250  2016-02-01  1.164062  1.163086  21.578125  7.059570   \n",
       "2           2  4.156250  2016-03-01  1.226562  1.695312  21.125000  7.851562   \n",
       "3           3  4.406250  2016-04-01  1.226562  1.510742  24.968750  7.262207   \n",
       "4           4  3.546875  2016-05-01  1.312500  1.780273  23.187500  6.458984   \n",
       "\n",
       "    ct  \n",
       "0  697  \n",
       "1  656  \n",
       "2  696  \n",
       "3  565  \n",
       "4  620  "
      ]
     },
     "execution_count": 158,
     "metadata": {},
     "output_type": "execute_result"
    }
   ],
   "source": [
    "saved_dataset.head()"
   ]
  },
  {
   "cell_type": "code",
   "execution_count": null,
   "metadata": {
    "collapsed": true
   },
   "outputs": [],
   "source": []
  }
 ],
 "metadata": {
  "anaconda-cloud": {},
  "kernelspec": {
   "display_name": "Python [default]",
   "language": "python",
   "name": "python2"
  },
  "language_info": {
   "codemirror_mode": {
    "name": "ipython",
    "version": 2
   },
   "file_extension": ".py",
   "mimetype": "text/x-python",
   "name": "python",
   "nbconvert_exporter": "python",
   "pygments_lexer": "ipython2",
   "version": "2.7.11"
  }
 },
 "nbformat": 4,
 "nbformat_minor": 0
}
